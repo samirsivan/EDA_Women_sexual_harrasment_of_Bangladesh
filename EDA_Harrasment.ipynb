{
 "cells": [
  {
   "cell_type": "code",
   "execution_count": 2,
   "metadata": {},
   "outputs": [],
   "source": [
    "import numpy as np\n",
    "import pandas as pd\n",
    "import matplotlib.pyplot as plt\n",
    "import seaborn as sns"
   ]
  },
  {
   "cell_type": "code",
   "execution_count": 5,
   "metadata": {},
   "outputs": [],
   "source": [
    "attempt_to_rape_df = pd.read_csv('D:\\Downloads\\A Portfolio Projects\\Python EDA projects\\Women Harassment Bangladesh\\Dataset\\Attempt-to-Rape_2014-2021.csv')\n",
    "suicide_after_rape_df = pd.read_csv('D:\\Downloads\\A Portfolio Projects\\Python EDA projects\\Women Harassment Bangladesh\\Dataset\\Rape_CommittedSuicideAfterBeingRaped_2007-2021.csv')\n",
    "gang_rape_df = pd.read_csv('D:\\Downloads\\A Portfolio Projects\\Python EDA projects\\Women Harassment Bangladesh\\Dataset\\Rape_GangRape_2007-2021.csv')\n",
    "killed_after_rape_df = pd.read_csv('D:\\Downloads\\A Portfolio Projects\\Python EDA projects\\Women Harassment Bangladesh\\Dataset\\Rape_KilledAfterRape_2007-2021.csv')\n",
    "total_rape_df = pd.read_csv('D:\\Downloads\\A Portfolio Projects\\Python EDA projects\\Women Harassment Bangladesh\\Dataset\\Rape_Total_2001-2021.csv')\n",
    "stalking_df = pd.read_csv('D:\\Downloads\\A Portfolio Projects\\Python EDA projects\\Women Harassment Bangladesh\\Dataset\\Stalking_2011-2021.csv')\n"
   ]
  },
  {
   "cell_type": "code",
   "execution_count": 6,
   "metadata": {},
   "outputs": [
    {
     "data": {
      "text/html": [
       "<div>\n",
       "<style scoped>\n",
       "    .dataframe tbody tr th:only-of-type {\n",
       "        vertical-align: middle;\n",
       "    }\n",
       "\n",
       "    .dataframe tbody tr th {\n",
       "        vertical-align: top;\n",
       "    }\n",
       "\n",
       "    .dataframe thead th {\n",
       "        text-align: right;\n",
       "    }\n",
       "</style>\n",
       "<table border=\"1\" class=\"dataframe\">\n",
       "  <thead>\n",
       "    <tr style=\"text-align: right;\">\n",
       "      <th></th>\n",
       "      <th>year</th>\n",
       "      <th>victims</th>\n",
       "      <th>protesting_female_attacked</th>\n",
       "      <th>protesting_male_attacked</th>\n",
       "    </tr>\n",
       "  </thead>\n",
       "  <tbody>\n",
       "    <tr>\n",
       "      <th>0</th>\n",
       "      <td>2021</td>\n",
       "      <td>113</td>\n",
       "      <td>10</td>\n",
       "      <td>39</td>\n",
       "    </tr>\n",
       "    <tr>\n",
       "      <th>1</th>\n",
       "      <td>2020</td>\n",
       "      <td>157</td>\n",
       "      <td>26</td>\n",
       "      <td>3</td>\n",
       "    </tr>\n",
       "    <tr>\n",
       "      <th>2</th>\n",
       "      <td>2019</td>\n",
       "      <td>189</td>\n",
       "      <td>11</td>\n",
       "      <td>28</td>\n",
       "    </tr>\n",
       "    <tr>\n",
       "      <th>3</th>\n",
       "      <td>2018</td>\n",
       "      <td>157</td>\n",
       "      <td>8</td>\n",
       "      <td>44</td>\n",
       "    </tr>\n",
       "    <tr>\n",
       "      <th>4</th>\n",
       "      <td>2017</td>\n",
       "      <td>242</td>\n",
       "      <td>24</td>\n",
       "      <td>83</td>\n",
       "    </tr>\n",
       "    <tr>\n",
       "      <th>5</th>\n",
       "      <td>2016</td>\n",
       "      <td>271</td>\n",
       "      <td>15</td>\n",
       "      <td>84</td>\n",
       "    </tr>\n",
       "    <tr>\n",
       "      <th>6</th>\n",
       "      <td>2015</td>\n",
       "      <td>191</td>\n",
       "      <td>10</td>\n",
       "      <td>95</td>\n",
       "    </tr>\n",
       "    <tr>\n",
       "      <th>7</th>\n",
       "      <td>2014</td>\n",
       "      <td>272</td>\n",
       "      <td>16</td>\n",
       "      <td>40</td>\n",
       "    </tr>\n",
       "    <tr>\n",
       "      <th>8</th>\n",
       "      <td>2013</td>\n",
       "      <td>357</td>\n",
       "      <td>9</td>\n",
       "      <td>89</td>\n",
       "    </tr>\n",
       "    <tr>\n",
       "      <th>9</th>\n",
       "      <td>2012</td>\n",
       "      <td>479</td>\n",
       "      <td>20</td>\n",
       "      <td>122</td>\n",
       "    </tr>\n",
       "    <tr>\n",
       "      <th>10</th>\n",
       "      <td>2011</td>\n",
       "      <td>672</td>\n",
       "      <td>42</td>\n",
       "      <td>187</td>\n",
       "    </tr>\n",
       "  </tbody>\n",
       "</table>\n",
       "</div>"
      ],
      "text/plain": [
       "    year  victims  protesting_female_attacked  protesting_male_attacked\n",
       "0   2021      113                          10                        39\n",
       "1   2020      157                          26                         3\n",
       "2   2019      189                          11                        28\n",
       "3   2018      157                           8                        44\n",
       "4   2017      242                          24                        83\n",
       "5   2016      271                          15                        84\n",
       "6   2015      191                          10                        95\n",
       "7   2014      272                          16                        40\n",
       "8   2013      357                           9                        89\n",
       "9   2012      479                          20                       122\n",
       "10  2011      672                          42                       187"
      ]
     },
     "execution_count": 6,
     "metadata": {},
     "output_type": "execute_result"
    }
   ],
   "source": [
    "stalking_df"
   ]
  },
  {
   "cell_type": "code",
   "execution_count": 40,
   "metadata": {},
   "outputs": [
    {
     "data": {
      "text/plain": [
       "10    672\n",
       "9     479\n",
       "8     357\n",
       "7     272\n",
       "6     191\n",
       "5     271\n",
       "4     242\n",
       "3     157\n",
       "2     189\n",
       "1     157\n",
       "0     113\n",
       "Name: victims, dtype: int64"
      ]
     },
     "execution_count": 40,
     "metadata": {},
     "output_type": "execute_result"
    }
   ],
   "source": []
  },
  {
   "cell_type": "code",
   "execution_count": 37,
   "metadata": {},
   "outputs": [
    {
     "data": {
      "image/png": "[encoded data removed]",
      "text/plain": [
       "<Figure size 1000x500 with 1 Axes>"
      ]
     },
     "metadata": {},
     "output_type": "display_data"
    }
   ],
   "source": [
    "plt.figure(figsize=(10,5))\n",
    "stalking_mean_victims = stalking_df.victims.mean()\n",
    "colors = ['r' if victim >= stalking_mean_victims else 'g' for victim in stalking_df.victims.sort_index(ascending=True)]\n",
    "sns.barplot(data=stalking_df, x='year', y='victims', palette=colors).axhline(stalking_mean_victims, c='b', ls='--', label=f'average: {stalking_mean_victims:.2f}')\n",
    "plt.legend()\n",
    "plt.show()"
   ]
  },
  {
   "cell_type": "code",
   "execution_count": null,
   "metadata": {},
   "outputs": [],
   "source": []
  },
  {
   "cell_type": "code",
   "execution_count": null,
   "metadata": {},
   "outputs": [],
   "source": []
  },
  {
   "cell_type": "code",
   "execution_count": null,
   "metadata": {},
   "outputs": [],
   "source": []
  },
  {
   "cell_type": "code",
   "execution_count": null,
   "metadata": {},
   "outputs": [],
   "source": []
  },
  {
   "cell_type": "code",
   "execution_count": null,
   "metadata": {},
   "outputs": [],
   "source": []
  },
  {
   "cell_type": "code",
   "execution_count": null,
   "metadata": {},
   "outputs": [],
   "source": []
  },
  {
   "cell_type": "code",
   "execution_count": null,
   "metadata": {},
   "outputs": [],
   "source": []
  },
  {
   "cell_type": "code",
   "execution_count": null,
   "metadata": {},
   "outputs": [],
   "source": []
  },
  {
   "cell_type": "code",
   "execution_count": null,
   "metadata": {},
   "outputs": [],
   "source": []
  },
  {
   "cell_type": "code",
   "execution_count": null,
   "metadata": {},
   "outputs": [],
   "source": []
  },
  {
   "cell_type": "code",
   "execution_count": null,
   "metadata": {},
   "outputs": [],
   "source": []
  },
  {
   "cell_type": "code",
   "execution_count": null,
   "metadata": {},
   "outputs": [],
   "source": []
  }
 ],
 "metadata": {
  "kernelspec": {
   "display_name": "Python 3",
   "language": "python",
   "name": "python3"
  },
  "language_info": {
   "codemirror_mode": {
    "name": "ipython",
    "version": 3
   },
   "file_extension": ".py",
   "mimetype": "text/x-python",
   "name": "python",
   "nbconvert_exporter": "python",
   "pygments_lexer": "ipython3",
   "version": "3.10.7"
  }
 },
 "nbformat": 4,
 "nbformat_minor": 2
}
